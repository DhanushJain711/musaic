{
 "cells": [
  {
   "cell_type": "code",
   "execution_count": 1,
   "id": "834b7278",
   "metadata": {},
   "outputs": [],
   "source": [
    "from music21 import converter, note, key"
   ]
  },
  {
   "cell_type": "code",
   "execution_count": 6,
   "id": "c5916d15",
   "metadata": {},
   "outputs": [
    {
     "name": "stdout",
     "output_type": "stream",
     "text": [
      "Score type: <class 'music21.stream.base.Score'>\n",
      "Score elements: 3\n",
      "All elements in score:\n",
      "  0: <class 'music21.metadata.Metadata'> - <music21.metadata.Metadata object at 0x125936310>\n",
      "  1: <class 'music21.stream.base.Part'> - <music21.stream.Part Piano>\n",
      "  2: <class 'music21.layout.ScoreLayout'> - <music21.layout.ScoreLayout>\n",
      "Number of parts: 1\n",
      "Part 0: 10 measures\n"
     ]
    }
   ],
   "source": [
    "score = converter.parse(\"/Users/dhanush/downloads/trumpet_etude_music.musicxml\")\n",
    "\n",
    "# Debug what we actually have\n",
    "print(f\"Score type: {type(score)}\")\n",
    "print(f\"Score elements: {len(score)}\")\n",
    "print(\"All elements in score:\")\n",
    "for i, element in enumerate(score):\n",
    "    print(f\"  {i}: {type(element)} - {element}\")\n",
    "\n",
    "# Check if it's a multi-part score\n",
    "if hasattr(score, 'parts'):\n",
    "    print(f\"Number of parts: {len(score.parts)}\")\n",
    "    for i, part in enumerate(score.parts):\n",
    "        print(f\"Part {i}: {len(part.getElementsByClass('Measure'))} measures\")\n",
    "\n",
    "        keys = part.getElementsByClass(key.KeySignature)\n",
    "        for k in keys:\n",
    "            print(f\"  Key sig: {k}, Sharp/Flat count: {k.sharps}\")\n",
    "            if hasattr(k, 'asKey'):\n",
    "                print(f\"  As key: {k.asKey()}\")\n"
   ]
  },
  {
   "cell_type": "code",
   "execution_count": 7,
   "id": "31d4e12f",
   "metadata": {},
   "outputs": [
    {
     "name": "stdout",
     "output_type": "stream",
     "text": [
      "Elements in Piano part:\n",
      "  0: <class 'music21.instrument.Piano'> - P1: Piano\n",
      "  1: <class 'music21.stream.base.Measure'> - <music21.stream.Measure 1 offset=0.0>\n",
      "  2: <class 'music21.stream.base.Measure'> - <music21.stream.Measure 2 offset=4.0>\n",
      "  3: <class 'music21.stream.base.Measure'> - <music21.stream.Measure 3 offset=8.0>\n",
      "  4: <class 'music21.stream.base.Measure'> - <music21.stream.Measure 4 offset=11.4375>\n",
      "  5: <class 'music21.stream.base.Measure'> - <music21.stream.Measure 5 offset=18.5625>\n",
      "  6: <class 'music21.stream.base.Measure'> - <music21.stream.Measure 6 offset=24.0625>\n",
      "  7: <class 'music21.stream.base.Measure'> - <music21.stream.Measure 7 offset=32.0625>\n",
      "  8: <class 'music21.stream.base.Measure'> - <music21.stream.Measure 8 offset=36.3125>\n",
      "  9: <class 'music21.stream.base.Measure'> - <music21.stream.Measure 9 offset=40.6875>\n",
      "  10: <class 'music21.stream.base.Measure'> - <music21.stream.Measure 10 offset=44.6875>\n",
      "First measure key signature: <music21.key.KeySignature of 2 flats>\n"
     ]
    }
   ],
   "source": [
    "part = score.parts[0]  # or score['Piano'] if that works\n",
    "\n",
    "print(\"Elements in Piano part:\")\n",
    "for i, element in enumerate(part):\n",
    "    print(f\"  {i}: {type(element)} - {element}\")\n",
    "\n",
    "all_measures = part.getElementsByClass('Measure')\n",
    "first_measure = all_measures[0]\n",
    "\n",
    "measure_keys = first_measure.getElementsByClass(key.KeySignature)\n",
    "current_key = measure_keys[0] if measure_keys else None\n",
    "print(f\"First measure key signature: {current_key}\")"
   ]
  },
  {
   "cell_type": "code",
   "execution_count": 8,
   "id": "61e096e9",
   "metadata": {},
   "outputs": [
    {
     "name": "stdout",
     "output_type": "stream",
     "text": [
      "Total measures in the score: 10\n",
      "Measure 1:\n",
      "Pitch: F4, Beat: 1.0, Duration: 1.0 quarter lengths\n",
      "Pitch: D4, Beat: 2.0, Duration: 1.0 quarter lengths\n",
      "Pitch: B♭4, Beat: 3.0, Duration: 1.0 quarter lengths\n",
      "Pitch: F4, Beat: 4.0, Duration: 0.75 quarter lengths\n",
      "Pitch: D5, Beat: 4.75, Duration: 0.25 quarter lengths\n",
      "Measure 2:\n",
      "Pitch: D5, Beat: 1.0, Duration: 2.0 quarter lengths\n",
      "Pitch: C5, Beat: 3.0, Duration: 1.0 quarter lengths\n",
      "Pitch: B♭4, Beat: 4.0, Duration: 1.0 quarter lengths\n",
      "Measure 3:\n",
      "Measure 4:\n",
      "Measure 5:\n",
      "Pitch: C5, Beat: 1.0, Duration: 0.75 quarter lengths\n",
      "Pitch: A4, Beat: 1.75, Duration: 0.25 quarter lengths\n",
      "Pitch: B♭4, Beat: 2.0, Duration: 0.5 quarter lengths\n",
      "Rest: Beat: 2.5, Duration: 4.0 quarter lengths\n",
      "Pitch: F4, Beat: 2.75, Duration: 0.125 quarter lengths\n",
      "Pitch: E♭5, Beat: 2.875, Duration: 0.75 quarter lengths\n",
      "Pitch: C5, Beat: 3.625, Duration: 0.25 quarter lengths\n",
      "Pitch: D5, Beat: 3.875, Duration: 0.5 quarter lengths\n",
      "Rest: Beat: 4.375, Duration: 0.25 quarter lengths\n",
      "Pitch: B♭4, Beat: 4.625, Duration: 0.25 quarter lengths\n"
     ]
    }
   ],
   "source": [
    "measures = all_measures[:5]  # Get the first 10 measures\n",
    "print(f\"Total measures in the score: {len(all_measures)}\")\n",
    "\n",
    "for measure in measures:\n",
    "    print(f\"Measure {measure.number}:\")\n",
    "    for element in measure.notesAndRests:\n",
    "        if isinstance(element, note.Note):\n",
    "            pitch = element.pitch.nameWithOctave\n",
    "            readable_pitch = pitch.replace('-', '♭').replace('#', '♯')\n",
    "            beat = element.beat\n",
    "            duration = element.duration.quarterLength\n",
    "            print(f\"Pitch: {readable_pitch}, Beat: {beat}, Duration: {duration} quarter lengths\")\n",
    "        elif isinstance(element, note.Rest):\n",
    "            # It's also good practice to handle rests\n",
    "            beat = element.beat\n",
    "            duration = element.duration.quarterLength\n",
    "            print(f\"Rest: Beat: {beat}, Duration: {duration} quarter lengths\")\n",
    "        else:\n",
    "            print(f\"Other element: {element}\")\n"
   ]
  },
  {
   "cell_type": "code",
   "execution_count": null,
   "id": "b23f74cb",
   "metadata": {},
   "outputs": [],
   "source": []
  }
 ],
 "metadata": {
  "kernelspec": {
   "display_name": "musaic_env",
   "language": "python",
   "name": "python3"
  },
  "language_info": {
   "codemirror_mode": {
    "name": "ipython",
    "version": 3
   },
   "file_extension": ".py",
   "mimetype": "text/x-python",
   "name": "python",
   "nbconvert_exporter": "python",
   "pygments_lexer": "ipython3",
   "version": "3.9.18"
  }
 },
 "nbformat": 4,
 "nbformat_minor": 5
}
