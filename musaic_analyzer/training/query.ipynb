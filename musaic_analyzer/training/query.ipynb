{
 "cells": [
  {
   "cell_type": "code",
   "execution_count": 1,
   "id": "7cc969f8",
   "metadata": {},
   "outputs": [],
   "source": [
    "import sys\n",
    "from pathlib import Path\n",
    "sys.path.append(str(Path().resolve().parent))"
   ]
  },
  {
   "cell_type": "code",
   "execution_count": null,
   "id": "d4b45270",
   "metadata": {},
   "outputs": [],
   "source": [
    "from training.dataset import GoodSoundsDatabase, GoodSoundsDataset"
   ]
  },
  {
   "cell_type": "code",
   "execution_count": 3,
   "id": "525833e0",
   "metadata": {},
   "outputs": [
    {
     "name": "stderr",
     "output_type": "stream",
     "text": [
      "INFO:models.dataset:Connected to database: /Users/dhanush/documents/musaic/good-sounds/database.sqlite\n"
     ]
    },
    {
     "data": {
      "text/plain": [
       "['good-sound',\n",
       " 'bad-stability-dynamics',\n",
       " '',\n",
       " 'bad-stability-timbre',\n",
       " 'bad-stability-pitch',\n",
       " 'good-attack',\n",
       " 'regular-attack',\n",
       " 'bad-attack',\n",
       " 'good-timbre-classic',\n",
       " 'good-timbre-wood',\n",
       " 'good-timbre-vague',\n",
       " 'good-air-min',\n",
       " 'good-air-normal',\n",
       " 'good-air-max',\n",
       " 'bad-air',\n",
       " 'bad-dynamics-stability-crescendo',\n",
       " 'bad-dynamics-stability-decrescendo',\n",
       " 'bad-dynamics-stability-tremolo',\n",
       " 'bad-dynamics-stability-errors',\n",
       " 'bad-pitch-stability-vibrato',\n",
       " 'bad-pitch-stability-errors',\n",
       " 'bad-timbre-stability',\n",
       " 'bad-pitch-stability-bend',\n",
       " 'bad-timbre-stability-errors',\n",
       " 'good-attack-no-picat',\n",
       " 'bad-attack-pitch-up',\n",
       " 'bad-attack-pitch-down',\n",
       " 'bad-attack-air',\n",
       " 'too-much-air',\n",
       " 'good-attack-accent>',\n",
       " 'good-attack-accent^',\n",
       " 'good-attack-apoyo',\n",
       " 'bad-attack-tongue-block',\n",
       " 'bad-attack-too-strong',\n",
       " 'bad-attack-multiphonic',\n",
       " 'bad-attack-gallo',\n",
       " 'bad-dynamics-crescendo',\n",
       " 'bad-dynamics-decrescendo',\n",
       " 'bad-dynamics-tremolo',\n",
       " 'bad-richness-pato',\n",
       " 'bad-richness-gaita',\n",
       " 'air-outside',\n",
       " 'air-inside',\n",
       " 'bad-dynamics-errors',\n",
       " 'bad-pitch-vibrato',\n",
       " 'bad-pitch-errors',\n",
       " 'bad-timbre-errors',\n",
       " 'bad-richness-bridge',\n",
       " 'bad-richness-sultasto',\n",
       " 'bad-attack-pressure',\n",
       " 'bad-attack-rebond',\n",
       " 'bad-richness-ponticello',\n",
       " 'bad-dynamic-stability',\n",
       " 'bad-pitch-stability',\n",
       " 'bad-richness',\n",
       " 'bad-pitch',\n",
       " 'bad-timbre',\n",
       " 'good-attack-soft',\n",
       " 'bad-dynamics',\n",
       " 'bad-richness bad-timbre bad-pitch',\n",
       " 'bad-pitch bad-dynamics bad-timbre',\n",
       " 'bad-timbre bad-dynamics',\n",
       " 'bad-timbre bad-richness',\n",
       " 'bad-timbre bad-dynamics bad-richness',\n",
       " 'bad-pitch bad-timbre',\n",
       " 'bad-attack bad-richness bad-timbre',\n",
       " 'bad-attack bad-timbre bad-richness',\n",
       " 'bad-attack bad-richness',\n",
       " 'bad-dynamics bad-timbre',\n",
       " 'bad-pitch bad-timbre bad richness',\n",
       " 'bad-richness bad-timbre',\n",
       " 'scale-good-staccato',\n",
       " 'scale-bad-rithm-staccato',\n",
       " 'scale-good-legato',\n",
       " 'scale-bad-ryhtm-legato',\n",
       " 'scale-legato-staccato',\n",
       " 'scale-bad-dynamics',\n",
       " 'scale-good-staccato-minor',\n",
       " 'scale-good-staccato-minor-harmonic',\n",
       " 'scale-bad-attack-staccato',\n",
       " 'scale-bad-attack-staccato-minor-harmonic',\n",
       " 'scale-bad-pitch-staccato',\n",
       " 'scale-bad-timbre-staccato',\n",
       " 'scale-bad-timbre-staccato-minor-harmonic',\n",
       " 'scale-bad-rithm-staccato-minor-harmonic',\n",
       " 'scale-good-legato-minor-harmonic',\n",
       " 'scale-bad-pitch-staccato-minor',\n",
       " 'scale-bad-rithm-staccato-minor',\n",
       " 'scale-bad-attack-staccato-minor',\n",
       " 'scale-bad-timbre-staccato-minor',\n",
       " 'scale-bad-pitch-dirt-staccato',\n",
       " 'scale-bad-pitch-dirt-staccato-minor',\n",
       " 'scale-good-staccato-triplets',\n",
       " 'scale-good-staccato-minor-triplets',\n",
       " 'scale-good-staccato-1quaver2semiquaver',\n",
       " 'scale-good-staccato-minor-1quaver2semiquaver',\n",
       " 'scale-good-staccato-1dottedquaver1semiquaver',\n",
       " 'scale-good-staccato-minor-1dottedquaver1semiquaver',\n",
       " 'scale-bad-dynamics-staccato',\n",
       " 'scale-bad-dynamics-staccato-minor',\n",
       " 'scale-bad-articulation-1dottedquaver1semiquaver',\n",
       " 'scale-bad-articulation-1dottedquaver1semiquaver-minor',\n",
       " 'scale-bad-articulation-onedottedquaveronesemiquaver',\n",
       " 'scale-bad-articulation-onedottedquaveronesemiquaver-minor',\n",
       " 'scale-bad-pitch-wrong-staccato',\n",
       " 'scale-bad-timbre-legato',\n",
       " 'scale-bad-timbre-legato-minor',\n",
       " 'scale-good-legato-minor',\n",
       " 'scale-bad-articulation',\n",
       " 'scale-bad-articulation-minor',\n",
       " 'scale-bad-tempo-staccato',\n",
       " 'scale-bad-tempo-staccato-minor',\n",
       " 'scale-bad-tempo-legato',\n",
       " 'scale-bad-tempo-legato-minor',\n",
       " 'scale-good',\n",
       " 'scale-good-minor',\n",
       " 'scale-bad-tempo',\n",
       " 'scale-bad-tempo-minor',\n",
       " 'scale-bad-pitch',\n",
       " 'scale-bad-pitch-minor',\n",
       " 'scale-bad-attack',\n",
       " 'scale-bad-attack-minor',\n",
       " 'scale-bad-timbre',\n",
       " 'scale-bad-timbre-minor',\n",
       " 'scale-bad-timbre-water',\n",
       " 'scale-bad-timbre-minor-water',\n",
       " 'scale-bad-dynamics-minor',\n",
       " 'scale-good-staccato-rhythm',\n",
       " 'scale-good-staccato-rhythm-minor',\n",
       " 'scale-good-legato-rhythm',\n",
       " 'scale-good-legato-rhythm-minor',\n",
       " 'scale-bad-tempo-legato-rhythm',\n",
       " 'scale-bad-tempo-legato-rhythm-minor',\n",
       " 'scale-bad-pitch-legato',\n",
       " 'scale-bad-pitch-legato-minor',\n",
       " 'bad-attack-tongue',\n",
       " 'bad-pitch-bad-timbre-notune',\n",
       " 'bad-dynamics-bad-timbre-bad-pitch',\n",
       " 'bad-richness-too-much-reed',\n",
       " 'good-sound-bow',\n",
       " ' good-sound-pizzicato-soft',\n",
       " ' good-sound-pizzicato-hard']"
      ]
     },
     "execution_count": 3,
     "metadata": {},
     "output_type": "execute_result"
    }
   ],
   "source": [
    "db = GoodSoundsDatabase(\"/Users/dhanush/documents/musaic/good-sounds\")\n",
    "db.get_unique_klasses()"
   ]
  },
  {
   "cell_type": "code",
   "execution_count": 5,
   "id": "ace47f92",
   "metadata": {},
   "outputs": [
    {
     "name": "stdout",
     "output_type": "stream",
     "text": [
      "['/Users/dhanush/documents/musaic/good-sounds/sound_files/trumpet_jesus_improvement_recordings/neumann/0029.wav', '/Users/dhanush/documents/musaic/good-sounds/sound_files/trumpet_jesus_improvement_recordings/neumann/0030.wav', '/Users/dhanush/documents/musaic/good-sounds/sound_files/trumpet_jesus_improvement_recordings/neumann/0031.wav', '/Users/dhanush/documents/musaic/good-sounds/sound_files/trumpet_jesus_improvement_recordings/neumann/0032.wav', '/Users/dhanush/documents/musaic/good-sounds/sound_files/trumpet_jesus_improvement_recordings/neumann/0033.wav', '/Users/dhanush/documents/musaic/good-sounds/sound_files/trumpet_jesus_improvement_recordings/neumann/0034.wav', '/Users/dhanush/documents/musaic/good-sounds/sound_files/trumpet_jesus_improvement_recordings/neumann/0035.wav', '/Users/dhanush/documents/musaic/good-sounds/sound_files/trumpet_jesus_improvement_recordings/neumann/0036.wav', '/Users/dhanush/documents/musaic/good-sounds/sound_files/trumpet_jesus_improvement_recordings/neumann/0037.wav', '/Users/dhanush/documents/musaic/good-sounds/sound_files/trumpet_jesus_improvement_recordings/neumann/0038.wav', '/Users/dhanush/documents/musaic/good-sounds/sound_files/trumpet_jesus_improvement_recordings/neumann/0039.wav', '/Users/dhanush/documents/musaic/good-sounds/sound_files/trumpet_jesus_improvement_recordings/neumann/0040.wav', '/Users/dhanush/documents/musaic/good-sounds/sound_files/trumpet_jesus_improvement_recordings/neumann/0041.wav', '/Users/dhanush/documents/musaic/good-sounds/sound_files/trumpet_jesus_improvement_recordings/neumann/0042.wav', '/Users/dhanush/documents/musaic/good-sounds/sound_files/trumpet_jesus_improvement_recordings/neumann/0043.wav', '/Users/dhanush/documents/musaic/good-sounds/sound_files/trumpet_jesus_improvement_recordings/neumann/0044.wav', '/Users/dhanush/documents/musaic/good-sounds/sound_files/trumpet_jesus_improvement_recordings/neumann/0045.wav', '/Users/dhanush/documents/musaic/good-sounds/sound_files/trumpet_jesus_improvement_recordings/neumann/0046.wav', '/Users/dhanush/documents/musaic/good-sounds/sound_files/trumpet_jesus_improvement_recordings/neumann/0047.wav', '/Users/dhanush/documents/musaic/good-sounds/sound_files/trumpet_jesus_improvement_recordings/neumann/0048.wav', '/Users/dhanush/documents/musaic/good-sounds/sound_files/trumpet_jesus_improvement_recordings/neumann/0049.wav', '/Users/dhanush/documents/musaic/good-sounds/sound_files/trumpet_jesus_improvement_recordings/neumann/0050.wav', '/Users/dhanush/documents/musaic/good-sounds/sound_files/trumpet_jesus_improvement_recordings/neumann/0051.wav', '/Users/dhanush/documents/musaic/good-sounds/sound_files/trumpet_jesus_improvement_recordings/neumann/0052.wav', '/Users/dhanush/documents/musaic/good-sounds/sound_files/trumpet_jesus_improvement_recordings/neumann/0053.wav', '/Users/dhanush/documents/musaic/good-sounds/sound_files/trumpet_jesus_improvement_recordings/neumann/0054.wav', '/Users/dhanush/documents/musaic/good-sounds/sound_files/trumpet_jesus_improvement_recordings/neumann/0055.wav', '/Users/dhanush/documents/musaic/good-sounds/sound_files/trumpet_jesus_improvement_recordings/neumann/0056.wav', '/Users/dhanush/documents/musaic/good-sounds/sound_files/trumpet_jesus_improvement_recordings/neumann/0057.wav', '/Users/dhanush/documents/musaic/good-sounds/sound_files/trumpet_jesus_improvement_recordings/neumann/0058.wav', '/Users/dhanush/documents/musaic/good-sounds/sound_files/trumpet_jesus_improvement_recordings/neumann/0059.wav', '/Users/dhanush/documents/musaic/good-sounds/sound_files/trumpet_jesus_improvement_recordings/neumann/0060.wav']\n"
     ]
    }
   ],
   "source": [
    "df = db.get_sounds_by_klass_and_instrument(\"good-attack\", \"trumpet\")\n",
    "print(df['file_path'].to_list())"
   ]
  },
  {
   "cell_type": "code",
   "execution_count": 7,
   "id": "aba8b3df",
   "metadata": {},
   "outputs": [
    {
     "name": "stdout",
     "output_type": "stream",
     "text": [
      "['/Users/dhanush/documents/musaic/good-sounds/sound_files/trumpet_jesus_evaluation_recordings/iphone/0006.wav', '/Users/dhanush/documents/musaic/good-sounds/sound_files/trumpet_jesus_evaluation_recordings/iphone/0007.wav', '/Users/dhanush/documents/musaic/good-sounds/sound_files/trumpet_ramon_evaluation_recordings/iphone/0005.wav', '/Users/dhanush/documents/musaic/good-sounds/sound_files/trumpet_jesus_improvement_recordings/neumann/0000.wav', '/Users/dhanush/documents/musaic/good-sounds/sound_files/trumpet_jesus_improvement_recordings/neumann/0001.wav', '/Users/dhanush/documents/musaic/good-sounds/sound_files/trumpet_jesus_improvement_recordings/neumann/0002.wav', '/Users/dhanush/documents/musaic/good-sounds/sound_files/trumpet_jesus_improvement_recordings/neumann/0003.wav', '/Users/dhanush/documents/musaic/good-sounds/sound_files/trumpet_jesus_improvement_recordings/neumann/0004.wav', '/Users/dhanush/documents/musaic/good-sounds/sound_files/trumpet_jesus_improvement_recordings/neumann/0005.wav', '/Users/dhanush/documents/musaic/good-sounds/sound_files/trumpet_jesus_improvement_recordings/neumann/0006.wav', '/Users/dhanush/documents/musaic/good-sounds/sound_files/trumpet_jesus_improvement_recordings/neumann/0007.wav', '/Users/dhanush/documents/musaic/good-sounds/sound_files/trumpet_jesus_improvement_recordings/neumann/0008.wav', '/Users/dhanush/documents/musaic/good-sounds/sound_files/trumpet_jesus_improvement_recordings/neumann/0009.wav', '/Users/dhanush/documents/musaic/good-sounds/sound_files/trumpet_jesus_improvement_recordings/neumann/0010.wav', '/Users/dhanush/documents/musaic/good-sounds/sound_files/trumpet_jesus_improvement_recordings/neumann/0011.wav', '/Users/dhanush/documents/musaic/good-sounds/sound_files/trumpet_jesus_improvement_recordings/neumann/0012.wav', '/Users/dhanush/documents/musaic/good-sounds/sound_files/trumpet_jesus_improvement_recordings/neumann/0013.wav', '/Users/dhanush/documents/musaic/good-sounds/sound_files/trumpet_jesus_improvement_recordings/neumann/0014.wav', '/Users/dhanush/documents/musaic/good-sounds/sound_files/trumpet_jesus_improvement_recordings/neumann/0015.wav', '/Users/dhanush/documents/musaic/good-sounds/sound_files/trumpet_jesus_improvement_recordings/neumann/0016.wav', '/Users/dhanush/documents/musaic/good-sounds/sound_files/trumpet_jesus_improvement_recordings/neumann/0017.wav', '/Users/dhanush/documents/musaic/good-sounds/sound_files/trumpet_jesus_improvement_recordings/neumann/0018.wav', '/Users/dhanush/documents/musaic/good-sounds/sound_files/trumpet_jesus_improvement_recordings/neumann/0019.wav', '/Users/dhanush/documents/musaic/good-sounds/sound_files/trumpet_jesus_improvement_recordings/neumann/0020.wav', '/Users/dhanush/documents/musaic/good-sounds/sound_files/trumpet_jesus_improvement_recordings/neumann/0021.wav', '/Users/dhanush/documents/musaic/good-sounds/sound_files/trumpet_jesus_improvement_recordings/neumann/0022.wav', '/Users/dhanush/documents/musaic/good-sounds/sound_files/trumpet_jesus_improvement_recordings/neumann/0023.wav', '/Users/dhanush/documents/musaic/good-sounds/sound_files/trumpet_jesus_improvement_recordings/neumann/0024.wav', '/Users/dhanush/documents/musaic/good-sounds/sound_files/trumpet_jesus_improvement_recordings/neumann/0025.wav', '/Users/dhanush/documents/musaic/good-sounds/sound_files/trumpet_jesus_improvement_recordings/neumann/0026.wav', '/Users/dhanush/documents/musaic/good-sounds/sound_files/trumpet_jesus_improvement_recordings/neumann/0027.wav', '/Users/dhanush/documents/musaic/good-sounds/sound_files/trumpet_jesus_improvement_recordings/neumann/0028.wav']\n"
     ]
    }
   ],
   "source": [
    "df = db.get_sounds_by_klass_and_instrument(\"bad-attack\", \"trumpet\")\n",
    "print(df['file_path'].to_list())"
   ]
  },
  {
   "cell_type": "code",
   "execution_count": 8,
   "id": "8d676c70",
   "metadata": {},
   "outputs": [
    {
     "name": "stdout",
     "output_type": "stream",
     "text": [
      "['/Users/dhanush/documents/musaic/good-sounds/sound_files/trumpet_ramon_pitch_stability/neumann/0029.wav', '/Users/dhanush/documents/musaic/good-sounds/sound_files/trumpet_ramon_pitch_stability/neumann/0030.wav', '/Users/dhanush/documents/musaic/good-sounds/sound_files/trumpet_ramon_pitch_stability/neumann/0031.wav', '/Users/dhanush/documents/musaic/good-sounds/sound_files/trumpet_ramon_pitch_stability/neumann/0032.wav', '/Users/dhanush/documents/musaic/good-sounds/sound_files/trumpet_ramon_pitch_stability/neumann/0033.wav', '/Users/dhanush/documents/musaic/good-sounds/sound_files/trumpet_ramon_pitch_stability/neumann/0034.wav', '/Users/dhanush/documents/musaic/good-sounds/sound_files/trumpet_ramon_pitch_stability/neumann/0035.wav', '/Users/dhanush/documents/musaic/good-sounds/sound_files/trumpet_ramon_pitch_stability/neumann/0036.wav', '/Users/dhanush/documents/musaic/good-sounds/sound_files/trumpet_ramon_pitch_stability/neumann/0037.wav', '/Users/dhanush/documents/musaic/good-sounds/sound_files/trumpet_ramon_pitch_stability/neumann/0038.wav', '/Users/dhanush/documents/musaic/good-sounds/sound_files/trumpet_ramon_pitch_stability/neumann/0039.wav', '/Users/dhanush/documents/musaic/good-sounds/sound_files/trumpet_ramon_pitch_stability/neumann/0040.wav', '/Users/dhanush/documents/musaic/good-sounds/sound_files/trumpet_ramon_pitch_stability/neumann/0041.wav', '/Users/dhanush/documents/musaic/good-sounds/sound_files/trumpet_ramon_pitch_stability/neumann/0042.wav', '/Users/dhanush/documents/musaic/good-sounds/sound_files/trumpet_ramon_pitch_stability/neumann/0043.wav', '/Users/dhanush/documents/musaic/good-sounds/sound_files/trumpet_ramon_pitch_stability/neumann/0044.wav', '/Users/dhanush/documents/musaic/good-sounds/sound_files/trumpet_ramon_pitch_stability/neumann/0045.wav', '/Users/dhanush/documents/musaic/good-sounds/sound_files/trumpet_ramon_pitch_stability/neumann/0046.wav', '/Users/dhanush/documents/musaic/good-sounds/sound_files/trumpet_ramon_pitch_stability/neumann/0047.wav', '/Users/dhanush/documents/musaic/good-sounds/sound_files/trumpet_ramon_pitch_stability/neumann/0048.wav', '/Users/dhanush/documents/musaic/good-sounds/sound_files/trumpet_ramon_pitch_stability/neumann/0049.wav', '/Users/dhanush/documents/musaic/good-sounds/sound_files/trumpet_ramon_pitch_stability/neumann/0050.wav', '/Users/dhanush/documents/musaic/good-sounds/sound_files/trumpet_ramon_pitch_stability/neumann/0051.wav', '/Users/dhanush/documents/musaic/good-sounds/sound_files/trumpet_ramon_pitch_stability/neumann/0052.wav', '/Users/dhanush/documents/musaic/good-sounds/sound_files/trumpet_ramon_pitch_stability/neumann/0053.wav', '/Users/dhanush/documents/musaic/good-sounds/sound_files/trumpet_ramon_pitch_stability/neumann/0054.wav', '/Users/dhanush/documents/musaic/good-sounds/sound_files/trumpet_ramon_pitch_stability/neumann/0055.wav', '/Users/dhanush/documents/musaic/good-sounds/sound_files/trumpet_ramon_pitch_stability/neumann/0056.wav', '/Users/dhanush/documents/musaic/good-sounds/sound_files/trumpet_ramon_pitch_stability/neumann/0057.wav']\n"
     ]
    }
   ],
   "source": [
    "df = db.get_sounds_by_klass_and_instrument(\"bad-pitch-stability-errors\", \"trumpet\")\n",
    "print(df['file_path'].to_list())"
   ]
  },
  {
   "cell_type": "code",
   "execution_count": 10,
   "id": "dc1c46fc",
   "metadata": {},
   "outputs": [
    {
     "name": "stdout",
     "output_type": "stream",
     "text": [
      "good-sound\n",
      "bad-dynamics-stability-crescendo\n",
      "bad-dynamics-stability-decrescendo\n",
      "bad-dynamics-stability-tremolo\n",
      "bad-dynamics-stability-errors\n",
      "bad-pitch-stability-bend\n",
      "bad-pitch-stability-errors\n",
      "bad-timbre-stability-errors\n",
      "good-attack-no-picat\n",
      "bad-attack-pitch-up\n",
      "bad-attack-pitch-down\n",
      "bad-attack-air\n",
      "too-much-air\n",
      "bad-pitch\n",
      "bad-richness\n",
      "bad-attack\n",
      "good-attack\n",
      "good-attack-soft\n"
     ]
    }
   ],
   "source": [
    "df = db.get_sounds_by_instrument(\"trumpet\")\n",
    "classes = df['klass'].unique().tolist()\n",
    "for cls in classes:\n",
    "    print(cls)"
   ]
  },
  {
   "cell_type": "code",
   "execution_count": 11,
   "id": "a4676948",
   "metadata": {},
   "outputs": [
    {
     "name": "stdout",
     "output_type": "stream",
     "text": [
      "['/Users/dhanush/documents/musaic/good-sounds/sound_files/trumpet_ramon_reference/neumann/0000.wav', '/Users/dhanush/documents/musaic/good-sounds/sound_files/trumpet_ramon_reference/neumann/0001.wav', '/Users/dhanush/documents/musaic/good-sounds/sound_files/trumpet_ramon_reference/neumann/0002.wav', '/Users/dhanush/documents/musaic/good-sounds/sound_files/trumpet_ramon_reference/neumann/0003.wav', '/Users/dhanush/documents/musaic/good-sounds/sound_files/trumpet_ramon_reference/neumann/0004.wav', '/Users/dhanush/documents/musaic/good-sounds/sound_files/trumpet_ramon_reference/neumann/0005.wav', '/Users/dhanush/documents/musaic/good-sounds/sound_files/trumpet_ramon_reference/neumann/0006.wav', '/Users/dhanush/documents/musaic/good-sounds/sound_files/trumpet_ramon_reference/neumann/0007.wav', '/Users/dhanush/documents/musaic/good-sounds/sound_files/trumpet_ramon_reference/neumann/0008.wav', '/Users/dhanush/documents/musaic/good-sounds/sound_files/trumpet_ramon_reference/neumann/0009.wav', '/Users/dhanush/documents/musaic/good-sounds/sound_files/trumpet_ramon_reference/neumann/0010.wav', '/Users/dhanush/documents/musaic/good-sounds/sound_files/trumpet_ramon_reference/neumann/0011.wav', '/Users/dhanush/documents/musaic/good-sounds/sound_files/trumpet_ramon_reference/neumann/0012.wav', '/Users/dhanush/documents/musaic/good-sounds/sound_files/trumpet_ramon_reference/neumann/0013.wav', '/Users/dhanush/documents/musaic/good-sounds/sound_files/trumpet_ramon_reference/neumann/0014.wav', '/Users/dhanush/documents/musaic/good-sounds/sound_files/trumpet_ramon_reference/neumann/0015.wav', '/Users/dhanush/documents/musaic/good-sounds/sound_files/trumpet_ramon_reference/neumann/0016.wav', '/Users/dhanush/documents/musaic/good-sounds/sound_files/trumpet_ramon_reference/neumann/0017.wav', '/Users/dhanush/documents/musaic/good-sounds/sound_files/trumpet_ramon_reference/neumann/0018.wav', '/Users/dhanush/documents/musaic/good-sounds/sound_files/trumpet_ramon_reference/neumann/0019.wav', '/Users/dhanush/documents/musaic/good-sounds/sound_files/trumpet_ramon_reference/neumann/0020.wav', '/Users/dhanush/documents/musaic/good-sounds/sound_files/trumpet_ramon_reference/neumann/0021.wav', '/Users/dhanush/documents/musaic/good-sounds/sound_files/trumpet_ramon_reference/neumann/0022.wav', '/Users/dhanush/documents/musaic/good-sounds/sound_files/trumpet_ramon_reference/neumann/0023.wav', '/Users/dhanush/documents/musaic/good-sounds/sound_files/trumpet_ramon_reference/neumann/0024.wav', '/Users/dhanush/documents/musaic/good-sounds/sound_files/trumpet_ramon_reference/neumann/0025.wav', '/Users/dhanush/documents/musaic/good-sounds/sound_files/trumpet_ramon_reference/neumann/0026.wav', '/Users/dhanush/documents/musaic/good-sounds/sound_files/trumpet_ramon_reference/neumann/0027.wav', '/Users/dhanush/documents/musaic/good-sounds/sound_files/trumpet_ramon_reference/neumann/0028.wav', '/Users/dhanush/documents/musaic/good-sounds/sound_files/trumpet_ramon_reference/neumann/0029.wav', '/Users/dhanush/documents/musaic/good-sounds/sound_files/trumpet_ramon_reference/neumann/0030.wav', '/Users/dhanush/documents/musaic/good-sounds/sound_files/trumpet_ramon_reference/neumann/0031.wav', '/Users/dhanush/documents/musaic/good-sounds/sound_files/trumpet_ramon_reference/neumann/0032.wav', '/Users/dhanush/documents/musaic/good-sounds/sound_files/trumpet_ramon_reference/neumann/0033.wav', '/Users/dhanush/documents/musaic/good-sounds/sound_files/trumpet_ramon_reference/neumann/0034.wav', '/Users/dhanush/documents/musaic/good-sounds/sound_files/trumpet_ramon_reference/neumann/0035.wav', '/Users/dhanush/documents/musaic/good-sounds/sound_files/trumpet_ramon_reference/neumann/0036.wav', '/Users/dhanush/documents/musaic/good-sounds/sound_files/trumpet_ramon_reference/neumann/0037.wav', '/Users/dhanush/documents/musaic/good-sounds/sound_files/trumpet_ramon_reference/neumann/0038.wav', '/Users/dhanush/documents/musaic/good-sounds/sound_files/trumpet_ramon_reference/neumann/0039.wav', '/Users/dhanush/documents/musaic/good-sounds/sound_files/trumpet_ramon_reference/neumann/0040.wav', '/Users/dhanush/documents/musaic/good-sounds/sound_files/trumpet_ramon_reference/neumann/0041.wav', '/Users/dhanush/documents/musaic/good-sounds/sound_files/trumpet_ramon_reference/neumann/0042.wav', '/Users/dhanush/documents/musaic/good-sounds/sound_files/trumpet_ramon_reference/neumann/0043.wav', '/Users/dhanush/documents/musaic/good-sounds/sound_files/trumpet_ramon_reference/neumann/0044.wav', '/Users/dhanush/documents/musaic/good-sounds/sound_files/trumpet_ramon_reference/neumann/0045.wav', '/Users/dhanush/documents/musaic/good-sounds/sound_files/trumpet_ramon_reference/neumann/0046.wav', '/Users/dhanush/documents/musaic/good-sounds/sound_files/trumpet_ramon_reference/neumann/0047.wav', '/Users/dhanush/documents/musaic/good-sounds/sound_files/trumpet_ramon_reference/neumann/0048.wav', '/Users/dhanush/documents/musaic/good-sounds/sound_files/trumpet_ramon_reference/neumann/0049.wav', '/Users/dhanush/documents/musaic/good-sounds/sound_files/trumpet_ramon_reference/neumann/0050.wav', '/Users/dhanush/documents/musaic/good-sounds/sound_files/trumpet_ramon_reference/neumann/0051.wav', '/Users/dhanush/documents/musaic/good-sounds/sound_files/trumpet_ramon_reference/neumann/0052.wav', '/Users/dhanush/documents/musaic/good-sounds/sound_files/trumpet_ramon_reference/neumann/0053.wav', '/Users/dhanush/documents/musaic/good-sounds/sound_files/trumpet_ramon_reference/neumann/0054.wav', '/Users/dhanush/documents/musaic/good-sounds/sound_files/trumpet_ramon_reference/neumann/0055.wav', '/Users/dhanush/documents/musaic/good-sounds/sound_files/trumpet_ramon_reference/neumann/0056.wav', '/Users/dhanush/documents/musaic/good-sounds/sound_files/trumpet_ramon_reference/neumann/0057.wav', '/Users/dhanush/documents/musaic/good-sounds/sound_files/trumpet_ramon_reference/neumann/0058.wav', '/Users/dhanush/documents/musaic/good-sounds/sound_files/trumpet_ramon_reference/neumann/0059.wav', '/Users/dhanush/documents/musaic/good-sounds/sound_files/trumpet_ramon_reference/neumann/0060.wav', '/Users/dhanush/documents/musaic/good-sounds/sound_files/trumpet_ramon_reference/neumann/0061.wav', '/Users/dhanush/documents/musaic/good-sounds/sound_files/trumpet_ramon_reference/neumann/0062.wav', '/Users/dhanush/documents/musaic/good-sounds/sound_files/trumpet_ramon_reference/neumann/0063.wav', '/Users/dhanush/documents/musaic/good-sounds/sound_files/trumpet_ramon_reference/neumann/0064.wav', '/Users/dhanush/documents/musaic/good-sounds/sound_files/trumpet_ramon_reference/neumann/0065.wav', '/Users/dhanush/documents/musaic/good-sounds/sound_files/trumpet_ramon_reference/neumann/0066.wav', '/Users/dhanush/documents/musaic/good-sounds/sound_files/trumpet_ramon_reference/neumann/0067.wav', '/Users/dhanush/documents/musaic/good-sounds/sound_files/trumpet_ramon_reference/neumann/0068.wav', '/Users/dhanush/documents/musaic/good-sounds/sound_files/trumpet_ramon_reference/neumann/0069.wav', '/Users/dhanush/documents/musaic/good-sounds/sound_files/trumpet_ramon_reference/neumann/0070.wav', '/Users/dhanush/documents/musaic/good-sounds/sound_files/trumpet_ramon_reference/neumann/0071.wav', '/Users/dhanush/documents/musaic/good-sounds/sound_files/trumpet_ramon_reference/neumann/0072.wav', '/Users/dhanush/documents/musaic/good-sounds/sound_files/trumpet_ramon_reference/neumann/0073.wav', '/Users/dhanush/documents/musaic/good-sounds/sound_files/trumpet_ramon_reference/neumann/0074.wav', '/Users/dhanush/documents/musaic/good-sounds/sound_files/trumpet_ramon_reference/neumann/0075.wav', '/Users/dhanush/documents/musaic/good-sounds/sound_files/trumpet_ramon_reference/neumann/0076.wav', '/Users/dhanush/documents/musaic/good-sounds/sound_files/trumpet_ramon_reference/neumann/0077.wav', '/Users/dhanush/documents/musaic/good-sounds/sound_files/trumpet_ramon_reference/neumann/0078.wav', '/Users/dhanush/documents/musaic/good-sounds/sound_files/trumpet_ramon_reference/neumann/0079.wav', '/Users/dhanush/documents/musaic/good-sounds/sound_files/trumpet_ramon_reference/neumann/0080.wav', '/Users/dhanush/documents/musaic/good-sounds/sound_files/trumpet_ramon_reference/neumann/0081.wav', '/Users/dhanush/documents/musaic/good-sounds/sound_files/trumpet_ramon_reference/neumann/0082.wav', '/Users/dhanush/documents/musaic/good-sounds/sound_files/trumpet_ramon_reference/neumann/0083.wav', '/Users/dhanush/documents/musaic/good-sounds/sound_files/trumpet_ramon_reference/neumann/0084.wav', '/Users/dhanush/documents/musaic/good-sounds/sound_files/trumpet_ramon_reference/neumann/0085.wav', '/Users/dhanush/documents/musaic/good-sounds/sound_files/trumpet_ramon_reference/neumann/0086.wav', '/Users/dhanush/documents/musaic/good-sounds/sound_files/trumpet_jesus_evaluation_recordings/iphone/0000.wav', '/Users/dhanush/documents/musaic/good-sounds/sound_files/trumpet_jesus_evaluation_recordings/iphone/0001.wav', '/Users/dhanush/documents/musaic/good-sounds/sound_files/trumpet_ramon_evaluation_recordings/iphone/0000.wav']\n"
     ]
    }
   ],
   "source": [
    "df = db.get_sounds_by_klass_and_instrument(\"good-sound\", \"trumpet\")\n",
    "print(df['file_path'].to_list())"
   ]
  },
  {
   "cell_type": "code",
   "execution_count": 3,
   "id": "8f40e1ba",
   "metadata": {},
   "outputs": [
    {
     "name": "stderr",
     "output_type": "stream",
     "text": [
      "INFO:models.dataset:Connected to database: /Users/dhanush/documents/musaic/good-sounds/database.sqlite\n",
      "WARNING:models.dataset:Pack ID nan not found in packs table\n",
      "WARNING:models.dataset:Pack ID nan not found in packs table\n",
      "WARNING:models.dataset:Filtered out 2 records with missing pack information\n",
      "/Users/dhanush/Documents/Musaic/musaic/models/dataset.py:129: SettingWithCopyWarning: \n",
      "A value is trying to be set on a copy of a slice from a DataFrame.\n",
      "Try using .loc[row_indexer,col_indexer] = value instead\n",
      "\n",
      "See the caveats in the documentation: https://pandas.pydata.org/pandas-docs/stable/user_guide/indexing.html#returning-a-view-versus-a-copy\n",
      "  df['file_path'] = df['file_path'] + '/' + df['pack_filename']\n",
      "/Users/dhanush/Documents/Musaic/musaic/models/dataset.py:135: SettingWithCopyWarning: \n",
      "A value is trying to be set on a copy of a slice from a DataFrame.\n",
      "Try using .loc[row_indexer,col_indexer] = value instead\n",
      "\n",
      "See the caveats in the documentation: https://pandas.pydata.org/pandas-docs/stable/user_guide/indexing.html#returning-a-view-versus-a-copy\n",
      "  df['file_exists'] = df['file_path'].apply(file_exists)\n",
      "WARNING:models.dataset:Found 2 records with missing audio files\n",
      "WARNING:models.dataset:  Missing file: /Users/dhanush/documents/musaic/good-sounds/sound_files/saxo_raul_recordings/neumann/0176.wav\n",
      "WARNING:models.dataset:  Missing file: /Users/dhanush/documents/musaic/good-sounds/sound_files/saxo_raul_recordings/neumann/0177.wav\n"
     ]
    },
    {
     "name": "stdout",
     "output_type": "stream",
     "text": [
      "<class 'pandas.core.frame.DataFrame'>\n",
      "Index: 6894 entries, 0 to 8749\n",
      "Data columns (total 26 columns):\n",
      " #   Column           Non-Null Count  Dtype  \n",
      "---  ------           --------------  -----  \n",
      " 0   id               6894 non-null   int64  \n",
      " 1   instrument       6894 non-null   object \n",
      " 2   note             6894 non-null   object \n",
      " 3   octave           6894 non-null   float64\n",
      " 4   dynamics         1216 non-null   object \n",
      " 5   recorded_at      6894 non-null   object \n",
      " 6   location         6894 non-null   object \n",
      " 7   player           6894 non-null   object \n",
      " 8   bow_velocity     222 non-null    object \n",
      " 9   bridge_position  222 non-null    object \n",
      " 10  string           1041 non-null   float64\n",
      " 11  csv_file         2984 non-null   float64\n",
      " 12  csv_id           6894 non-null   object \n",
      " 13  pack_filename    6894 non-null   object \n",
      " 14  pack_id          6894 non-null   float64\n",
      " 15  attack           279 non-null    float64\n",
      " 16  decay            279 non-null    float64\n",
      " 17  sustain          0 non-null      object \n",
      " 18  release          279 non-null    float64\n",
      " 19  offset           279 non-null    float64\n",
      " 20  reference        6894 non-null   int64  \n",
      " 21  klass            6672 non-null   object \n",
      " 22  comments         2529 non-null   object \n",
      " 23  semitone         6894 non-null   float64\n",
      " 24  pitch_reference  6894 non-null   float64\n",
      " 25  file_path        6894 non-null   object \n",
      "dtypes: float64(10), int64(2), object(14)\n",
      "memory usage: 1.4+ MB\n"
     ]
    }
   ],
   "source": [
    "db = GoodSoundsDatabase(\"/Users/dhanush/documents/musaic/good-sounds\")\n",
    "df = db.get_all_sounds()\n",
    "df.info()"
   ]
  },
  {
   "cell_type": "code",
   "execution_count": null,
   "id": "0653a820",
   "metadata": {},
   "outputs": [],
   "source": []
  }
 ],
 "metadata": {
  "kernelspec": {
   "display_name": "musaic_env",
   "language": "python",
   "name": "python3"
  },
  "language_info": {
   "codemirror_mode": {
    "name": "ipython",
    "version": 3
   },
   "file_extension": ".py",
   "mimetype": "text/x-python",
   "name": "python",
   "nbconvert_exporter": "python",
   "pygments_lexer": "ipython3",
   "version": "3.9.18"
  }
 },
 "nbformat": 4,
 "nbformat_minor": 5
}
