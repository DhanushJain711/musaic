{
 "cells": [
  {
   "cell_type": "code",
   "execution_count": null,
   "id": "834b7278",
   "metadata": {},
   "outputs": [],
   "source": [
    "from music21 import converter, note, key"
   ]
  },
  {
   "cell_type": "code",
   "execution_count": null,
   "id": "c5916d15",
   "metadata": {},
   "outputs": [],
   "source": [
    "score = converter.parse(\"/Users/dhanush/downloads/Strauss-F-Nocturno-Op-7-horn/Strauss-F-Nocturno-Op-7-horn-1.musicxml\")\n",
    "\n",
    "# Debug what we actually have\n",
    "print(f\"Score type: {type(score)}\")\n",
    "print(f\"Score elements: {len(score)}\")\n",
    "print(\"All elements in score:\")\n",
    "for i, element in enumerate(score):\n",
    "    print(f\"  {i}: {type(element)} - {element}\")\n",
    "\n",
    "# Check if it's a multi-part score\n",
    "if hasattr(score, 'parts'):\n",
    "    print(f\"Number of parts: {len(score.parts)}\")\n",
    "    for i, part in enumerate(score.parts):\n",
    "        print(f\"Part {i}: {len(part.getElementsByClass('Measure'))} measures\")\n",
    "\n",
    "        keys = part.getElementsByClass(key.KeySignature)\n",
    "        for k in keys:\n",
    "            print(f\"  Key sig: {k}, Sharp/Flat count: {k.sharps}\")\n",
    "            if hasattr(k, 'asKey'):\n",
    "                print(f\"  As key: {k.asKey()}\")\n"
   ]
  },
  {
   "cell_type": "code",
   "execution_count": null,
   "id": "31d4e12f",
   "metadata": {},
   "outputs": [],
   "source": [
    "piano_part = score.parts[0]  # or score['Piano'] if that works\n",
    "\n",
    "print(\"Elements in Piano part:\")\n",
    "for i, element in enumerate(piano_part):\n",
    "    print(f\"  {i}: {type(element)} - {element}\")\n",
    "\n",
    "all_measures = part.getElementsByClass('Measure')\n",
    "first_measure = all_measures[0]\n",
    "\n",
    "measure_keys = first_measure.getElementsByClass(key.KeySignature)\n",
    "current_key = measure_keys[0] if measure_keys else None\n",
    "print(f\"First measure key signature: {current_key}\")"
   ]
  },
  {
   "cell_type": "code",
   "execution_count": 25,
   "id": "61e096e9",
   "metadata": {},
   "outputs": [
    {
     "name": "stdout",
     "output_type": "stream",
     "text": [
      "Total measures in the score: 43\n",
      "Measure 1:\n",
      "Rest: Beat: 1.0, Duration: 4.0 quarter lengths\n",
      "Measure 2:\n",
      "Pitch: A♭4, Beat: 1.0, Duration: 2.0 quarter lengths\n",
      "Pitch: G4, Beat: 3.0, Duration: 0.5 quarter lengths\n",
      "Pitch: A♭4, Beat: 3.5, Duration: 0.5 quarter lengths\n",
      "Pitch: D♭5, Beat: 4.0, Duration: 0.5 quarter lengths\n",
      "Pitch: C5, Beat: 4.5, Duration: 0.5 quarter lengths\n",
      "Measure 3:\n",
      "Pitch: C5, Beat: 1.0, Duration: 1.5 quarter lengths\n",
      "Pitch: B♭4, Beat: 2.5, Duration: 0.5 quarter lengths\n",
      "Pitch: A♭4, Beat: 3.0, Duration: 1.0 quarter lengths\n",
      "Pitch: E♭4, Beat: 4.0, Duration: 1.0 quarter lengths\n",
      "Measure 4:\n",
      "Pitch: E♭5, Beat: 1.0, Duration: 1.0 quarter lengths\n",
      "Pitch: G4, Beat: 2.0, Duration: 1.0 quarter lengths\n",
      "Pitch: B♭4, Beat: 3.0, Duration: 0.5 quarter lengths\n",
      "Pitch: A♭4, Beat: 3.5, Duration: 0.5 quarter lengths\n",
      "Pitch: G4, Beat: 4.0, Duration: 0.5 quarter lengths\n",
      "Pitch: A♭4, Beat: 4.5, Duration: 0.5 quarter lengths\n",
      "Measure 5:\n",
      "Pitch: B♭4, Beat: 1.0, Duration: 3.0 quarter lengths\n",
      "Pitch: E♭4, Beat: 4.0, Duration: 1.0 quarter lengths\n"
     ]
    }
   ],
   "source": [
    "measures = all_measures[:5]  # Get the first 10 measures\n",
    "print(f\"Total measures in the score: {len(all_measures)}\")\n",
    "\n",
    "for measure in measures:\n",
    "    print(f\"Measure {measure.number}:\")\n",
    "    for element in measure.notesAndRests:\n",
    "        if isinstance(element, note.Note):\n",
    "            pitch = element.pitch.nameWithOctave\n",
    "            readable_pitch = pitch.replace('-', '♭').replace('#', '♯')\n",
    "            beat = element.beat\n",
    "            duration = element.duration.quarterLength\n",
    "            print(f\"Pitch: {readable_pitch}, Beat: {beat}, Duration: {duration} quarter lengths\")\n",
    "        elif isinstance(element, note.Rest):\n",
    "            # It's also good practice to handle rests\n",
    "            beat = element.beat\n",
    "            duration = element.duration.quarterLength\n",
    "            print(f\"Rest: Beat: {beat}, Duration: {duration} quarter lengths\")\n",
    "        else:\n",
    "            print(f\"Other element: {element}\")\n"
   ]
  },
  {
   "cell_type": "code",
   "execution_count": null,
   "id": "b23f74cb",
   "metadata": {},
   "outputs": [],
   "source": []
  }
 ],
 "metadata": {
  "kernelspec": {
   "display_name": "musicenv",
   "language": "python",
   "name": "python3"
  },
  "language_info": {
   "codemirror_mode": {
    "name": "ipython",
    "version": 3
   },
   "file_extension": ".py",
   "mimetype": "text/x-python",
   "name": "python",
   "nbconvert_exporter": "python",
   "pygments_lexer": "ipython3",
   "version": "3.13.5"
  }
 },
 "nbformat": 4,
 "nbformat_minor": 5
}
